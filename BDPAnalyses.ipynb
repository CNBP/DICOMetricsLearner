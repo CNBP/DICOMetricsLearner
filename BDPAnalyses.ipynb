{
 "cells": [
  {
   "cell_type": "code",
   "execution_count": null,
   "metadata": {
    "collapsed": false
   },
   "outputs": [],
   "source": ["import sys\nimport scipy\nimport numpy\nimport matplotlib\nimport pandas as pd;\nimport sklearn\npd.options.display.precision = 3;\npd.set_option('display.height', 2000)\npd.set_option('display.max_rows', 100)\npd.set_option('display.max_columns', 100)\npd.set_option('display.width', 2000)\nfrom IPython.core.display import display, HTML\ndisplay(HTML(\"<style>.container { width:100% !important; }</style>\"))\n\nprint('Python: {}'.format(sys.version))\nprint('scipy: {}'.format(scipy.__version__))\nprint('numpy:{}'.format(numpy.__version__))\nprint('matplotlib: {}'.format(matplotlib.__version__))\nprint('pandas: {}'.format(pd.__version__))\nprint('sklearn: {}'.format(sklearn.__version__))\n\nfrom pandas.tools.plotting import scatter_matrix\nimport matplotlib.pyplot as plt\nplt.figure(figsize=(40,40))\nfrom sklearn import model_selection\nfrom sklearn.metrics import classification_report\nfrom sklearn.metrics import confusion_matrix\nfrom sklearn.metrics import accuracy_score\nfrom sklearn.linear_model import LogisticRegression\nfrom sklearn.tree import DecisionTreeClassifier\nfrom sklearn.neighbors import KNeighborsClassifier\nfrom sklearn.discriminant_analysis import LinearDiscriminantAnalysis\nfrom sklearn.naive_bayes import GaussianNB\nfrom sklearn.svm import SVC\npd.options.display.width = 180\n"]
  }
 ],
 "metadata": {
  "kernelspec": {
   "display_name": "Python 3",
   "language": "python",
   "name": "python3"
  },
  "language_info": {
   "codemirror_mode": {
    "name": "ipython",
    "version": 3
   },
   "file_extension": ".py",
   "mimetype": "text/x-python",
   "name": "python",
   "nbconvert_exporter": "python",
   "pygments_lexer": "ipython3",
   "version": "3.4.2"
  }
 },
 "nbformat": 4,
 "nbformat_minor": 0
}