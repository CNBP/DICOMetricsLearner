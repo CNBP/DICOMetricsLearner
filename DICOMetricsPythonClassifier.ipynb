{
 "cells": [
  {
   "cell_type": "code",
   "execution_count": null,
   "metadata": {
    "collapsed": false
   },
   "outputs": [],
   "source": ["\n# coding: utf-8\n\n# In[1]:\n\n\nimport sys\nimport scipy\nimport numpy\nimport matplotlib\nimport pandas as pd;\nimport sklearn\npd.options.display.precision = 3;\npd.set_option('display.height', 2000)\npd.set_option('display.max_rows', 100)\npd.set_option('display.max_columns', 100)\npd.set_option('display.width', 2000)\nfrom IPython.core.display import display, HTML\ndisplay(HTML(\"<style>.container { width:100% !important; }</style>\"))\n\n\n# In[2]:\n\n\nprint('Python: {}'.format(sys.version))\nprint('scipy: {}'.format(scipy.__version__))\nprint('numpy:{}'.format(numpy.__version__))\nprint('matplotlib: {}'.format(matplotlib.__version__))\nprint('pandas: {}'.format(pd.__version__))\nprint('sklearn: {}'.format(sklearn.__version__))\n\n\n# In[3]:\n\n\nfrom pandas.tools.plotting import scatter_matrix\nimport matplotlib.pyplot as plt\nplt.figure(figsize=(40,40)) \nfrom sklearn import model_selection\nfrom sklearn.metrics import classification_report\nfrom sklearn.metrics import confusion_matrix\nfrom sklearn.metrics import accuracy_score\nfrom sklearn.linear_model import LogisticRegression\nfrom sklearn.tree import DecisionTreeClassifier\nfrom sklearn.neighbors import KNeighborsClassifier\nfrom sklearn.discriminant_analysis import LinearDiscriminantAnalysis\nfrom sklearn.naive_bayes import GaussianNB\nfrom sklearn.svm import SVC\npd.options.display.width = 180\n\n\n# In[4]:\n\n\nimport requests\nfrom io import BytesIO\nimport scipy.io as sio\n\nurlData = 'https://github.com/dyt811/QCMetrics/raw/master/Results/BDP/Metrics/LabeledMatrix.csv'\nurlLabel = ''\nresponse = requests.get(url)\ndataset = pd.read_csv(BytesIO(response.content))\n\n\n# In this step we are going to take a look at the data a few different ways:\n# \n# Dimensions of the dataset.\n# Peek at the data itself.\n# Statistical summary of all attributes.\n# Breakdown of the data by the class variable.\n\n# ### Basic Data Description Section\n\n# In[5]:\n\n\ndataset\n\n\n# In[6]:\n\n\ntype(dataset)\n\n\n# In[7]:\n\n\nprint(dataset.describe())\n\n\n# In[8]:\n\n\nprint(dataset.groupby('class').size())\n\n\n# ### Univariate Plot Section\n\n# In[ ]:\n\n\n# Univariate Plots\ndataset.plot(kind='box',\n             subplots=True,\n             layout = (3,3), \n             sharex = False, \n             sharey = False);\nplt.show();\n\n\n# In[ ]:\n\n\n# Histograms\ndataset.hist()\nplt.show()\n\n\n# ### Multivariatn Plot Section\n\n# In[ ]:\n\n\n# Scatter Plot Matrix\nscatter_matrix(dataset);\nplt.show();\n\n\n# ### Algorithms\n\n# In[ ]:\n\n\n# 80% 20 % Split\narray = dataset.values;\nX = array[:,0:4]\nY = array[:,4]\nvalidation_size = 0.20\nseed = 7\nX_train, X_validation, Y_train, Y_validation = model_selection.train_test_split(X, Y, test_size=validation_size, random_state=seed)\n\n\n\n# In[ ]:\n\n\nseed = 7;\nscoring = 'accuracy';\n\n\n# In[ ]:\n\n\n# Spot Check Algorithms\nmodels = []\nmodels.append(('LR', LogisticRegression()))\nmodels.append(('LDA', LinearDiscriminantAnalysis()))\nmodels.append(('KNN', KNeighborsClassifier()))\nmodels.append(('CART', DecisionTreeClassifier()))\nmodels.append(('NB', GaussianNB()))\nmodels.append(('SVM', SVC()))\n# evaluate each model in turn\nresults = []\nnames = []\nfor name, model in models:\n\tkfold = model_selection.KFold(n_splits=10, random_state=seed)\n\tcv_results = model_selection.cross_val_score(model, X_train, Y_train, cv=kfold, scoring=scoring)\n\tresults.append(cv_results)\n\tnames.append(name)\n\tmsg = \"%s: %f (%f)\" % (name, cv_results.mean(), cv_results.std())\n\tprint(msg)\n\n\n# In[ ]:\n\n\nfig = plt.figure()\nfig.suptitle('Algorithms Comparion')\nax = fig.add_subplot(111)\nplt.boxplot(results)\nax.set_xticklabels(names)\nplt.show()\n\n\n# In[ ]:\n\n\nknn = KNeighborsClassifier()\nknn.fit(X_train,Y_train)\npredictions = knn.predict(X_validation)\nprint(accuracy_score(Y_validation,predictions))\nprint(confusion_matrix(Y_validation,predictions))\nprint(classification_report(Y_validation,predictions))\n\n\n# In[ ]:\n\n\naa\n\n"]
  }
 ],
 "metadata": {
  "kernelspec": {
   "display_name": "Python 3",
   "language": "python",
   "name": "python3"
  },
  "language_info": {
   "codemirror_mode": {
    "name": "ipython",
    "version": 3
   },
   "file_extension": ".py",
   "mimetype": "text/x-python",
   "name": "python",
   "nbconvert_exporter": "python",
   "pygments_lexer": "ipython3",
   "version": "3.4.2"
  }
 },
 "nbformat": 4,
 "nbformat_minor": 0
}